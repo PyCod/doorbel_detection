{
 "cells": [
  {
   "cell_type": "code",
   "execution_count": 8,
   "metadata": {},
   "outputs": [],
   "source": [
    "from pyAudioAnalysis import audioTrainTest as aT"
   ]
  },
  {
   "cell_type": "code",
   "execution_count": 9,
   "metadata": {
    "tags": [
     "outputPrepend"
    ]
   },
   "outputs": [
    {
     "output_type": "stream",
     "name": "stdout",
     "text": " 1092: ../augmented_data/train/noise/763.wav\nAnalyzing file 832 of 1092: ../augmented_data/train/noise/764.wav\nAnalyzing file 833 of 1092: ../augmented_data/train/noise/765.wav\nAnalyzing file 834 of 1092: ../augmented_data/train/noise/766.wav\nAnalyzing file 835 of 1092: ../augmented_data/train/noise/767.wav\nAnalyzing file 836 of 1092: ../augmented_data/train/noise/768.wav\nAnalyzing file 837 of 1092: ../augmented_data/train/noise/769.wav\nAnalyzing file 838 of 1092: ../augmented_data/train/noise/77.wav\nAnalyzing file 839 of 1092: ../augmented_data/train/noise/770.wav\nAnalyzing file 840 of 1092: ../augmented_data/train/noise/771.wav\nAnalyzing file 841 of 1092: ../augmented_data/train/noise/772.wav\nAnalyzing file 842 of 1092: ../augmented_data/train/noise/773.wav\nAnalyzing file 843 of 1092: ../augmented_data/train/noise/774.wav\nAnalyzing file 844 of 1092: ../augmented_data/train/noise/775.wav\nAnalyzing file 845 of 1092: ../augmented_data/train/noise/776.wav\nAnalyzing file 846 of 1092: ../augmented_data/train/noise/777.wav\nAnalyzing file 847 of 1092: ../augmented_data/train/noise/778.wav\nAnalyzing file 848 of 1092: ../augmented_data/train/noise/779.wav\nAnalyzing file 849 of 1092: ../augmented_data/train/noise/78.wav\nAnalyzing file 850 of 1092: ../augmented_data/train/noise/780.wav\nAnalyzing file 851 of 1092: ../augmented_data/train/noise/781.wav\nAnalyzing file 852 of 1092: ../augmented_data/train/noise/782.wav\nAnalyzing file 853 of 1092: ../augmented_data/train/noise/783.wav\nAnalyzing file 854 of 1092: ../augmented_data/train/noise/784.wav\nAnalyzing file 855 of 1092: ../augmented_data/train/noise/785.wav\nAnalyzing file 856 of 1092: ../augmented_data/train/noise/786.wav\nAnalyzing file 857 of 1092: ../augmented_data/train/noise/787.wav\nAnalyzing file 858 of 1092: ../augmented_data/train/noise/788.wav\nAnalyzing file 859 of 1092: ../augmented_data/train/noise/789.wav\nAnalyzing file 860 of 1092: ../augmented_data/train/noise/79.wav\nAnalyzing file 861 of 1092: ../augmented_data/train/noise/790.wav\nAnalyzing file 862 of 1092: ../augmented_data/train/noise/791.wav\nAnalyzing file 863 of 1092: ../augmented_data/train/noise/792.wav\nAnalyzing file 864 of 1092: ../augmented_data/train/noise/793.wav\nAnalyzing file 865 of 1092: ../augmented_data/train/noise/794.wav\nAnalyzing file 866 of 1092: ../augmented_data/train/noise/795.wav\nAnalyzing file 867 of 1092: ../augmented_data/train/noise/796.wav\nAnalyzing file 868 of 1092: ../augmented_data/train/noise/797.wav\nAnalyzing file 869 of 1092: ../augmented_data/train/noise/798.wav\nAnalyzing file 870 of 1092: ../augmented_data/train/noise/799.wav\nAnalyzing file 871 of 1092: ../augmented_data/train/noise/8.wav\nAnalyzing file 872 of 1092: ../augmented_data/train/noise/80.wav\nAnalyzing file 873 of 1092: ../augmented_data/train/noise/800.wav\nAnalyzing file 874 of 1092: ../augmented_data/train/noise/801.wav\nAnalyzing file 875 of 1092: ../augmented_data/train/noise/802.wav\nAnalyzing file 876 of 1092: ../augmented_data/train/noise/803.wav\nAnalyzing file 877 of 1092: ../augmented_data/train/noise/804.wav\nAnalyzing file 878 of 1092: ../augmented_data/train/noise/805.wav\nAnalyzing file 879 of 1092: ../augmented_data/train/noise/806.wav\nAnalyzing file 880 of 1092: ../augmented_data/train/noise/807.wav\nAnalyzing file 881 of 1092: ../augmented_data/train/noise/808.wav\nAnalyzing file 882 of 1092: ../augmented_data/train/noise/809.wav\nAnalyzing file 883 of 1092: ../augmented_data/train/noise/81.wav\nAnalyzing file 884 of 1092: ../augmented_data/train/noise/810.wav\nAnalyzing file 885 of 1092: ../augmented_data/train/noise/811.wav\nAnalyzing file 886 of 1092: ../augmented_data/train/noise/812.wav\nAnalyzing file 887 of 1092: ../augmented_data/train/noise/813.wav\nAnalyzing file 888 of 1092: ../augmented_data/train/noise/814.wav\nAnalyzing file 889 of 1092: ../augmented_data/train/noise/815.wav\nAnalyzing file 890 of 1092: ../augmented_data/train/noise/816.wav\nAnalyzing file 891 of 1092: ../augmented_data/train/noise/817.wav\nAnalyzing file 892 of 1092: ../augmented_data/train/noise/818.wav\nAnalyzing file 893 of 1092: ../augmented_data/train/noise/819.wav\nAnalyzing file 894 of 1092: ../augmented_data/train/noise/82.wav\nAnalyzing file 895 of 1092: ../augmented_data/train/noise/820.wav\nAnalyzing file 896 of 1092: ../augmented_data/train/noise/821.wav\nAnalyzing file 897 of 1092: ../augmented_data/train/noise/822.wav\nAnalyzing file 898 of 1092: ../augmented_data/train/noise/823.wav\nAnalyzing file 899 of 1092: ../augmented_data/train/noise/824.wav\nAnalyzing file 900 of 1092: ../augmented_data/train/noise/825.wav\nAnalyzing file 901 of 1092: ../augmented_data/train/noise/826.wav\nAnalyzing file 902 of 1092: ../augmented_data/train/noise/827.wav\nAnalyzing file 903 of 1092: ../augmented_data/train/noise/828.wav\nAnalyzing file 904 of 1092: ../augmented_data/train/noise/829.wav\nAnalyzing file 905 of 1092: ../augmented_data/train/noise/83.wav\nAnalyzing file 906 of 1092: ../augmented_data/train/noise/830.wav\nAnalyzing file 907 of 1092: ../augmented_data/train/noise/831.wav\nAnalyzing file 908 of 1092: ../augmented_data/train/noise/832.wav\nAnalyzing file 909 of 1092: ../augmented_data/train/noise/833.wav\nAnalyzing file 910 of 1092: ../augmented_data/train/noise/834.wav\nAnalyzing file 911 of 1092: ../augmented_data/train/noise/835.wav\nAnalyzing file 912 of 1092: ../augmented_data/train/noise/836.wav\nAnalyzing file 913 of 1092: ../augmented_data/train/noise/837.wav\nAnalyzing file 914 of 1092: ../augmented_data/train/noise/838.wav\nAnalyzing file 915 of 1092: ../augmented_data/train/noise/839.wav\nAnalyzing file 916 of 1092: ../augmented_data/train/noise/84.wav\nAnalyzing file 917 of 1092: ../augmented_data/train/noise/840.wav\nAnalyzing file 918 of 1092: ../augmented_data/train/noise/841.wav\nAnalyzing file 919 of 1092: ../augmented_data/train/noise/842.wav\nAnalyzing file 920 of 1092: ../augmented_data/train/noise/843.wav\nAnalyzing file 921 of 1092: ../augmented_data/train/noise/844.wav\nAnalyzing file 922 of 1092: ../augmented_data/train/noise/845.wav\nAnalyzing file 923 of 1092: ../augmented_data/train/noise/846.wav\nAnalyzing file 924 of 1092: ../augmented_data/train/noise/847.wav\nAnalyzing file 925 of 1092: ../augmented_data/train/noise/848.wav\nAnalyzing file 926 of 1092: ../augmented_data/train/noise/849.wav\nAnalyzing file 927 of 1092: ../augmented_data/train/noise/85.wav\nAnalyzing file 928 of 1092: ../augmented_data/train/noise/850.wav\nAnalyzing file 929 of 1092: ../augmented_data/train/noise/851.wav\nAnalyzing file 930 of 1092: ../augmented_data/train/noise/852.wav\nAnalyzing file 931 of 1092: ../augmented_data/train/noise/853.wav\nAnalyzing file 932 of 1092: ../augmented_data/train/noise/854.wav\nAnalyzing file 933 of 1092: ../augmented_data/train/noise/855.wav\nAnalyzing file 934 of 1092: ../augmented_data/train/noise/856.wav\nAnalyzing file 935 of 1092: ../augmented_data/train/noise/857.wav\nAnalyzing file 936 of 1092: ../augmented_data/train/noise/858.wav\nAnalyzing file 937 of 1092: ../augmented_data/train/noise/859.wav\nAnalyzing file 938 of 1092: ../augmented_data/train/noise/86.wav\nAnalyzing file 939 of 1092: ../augmented_data/train/noise/860.wav\nAnalyzing file 940 of 1092: ../augmented_data/train/noise/861.wav\nAnalyzing file 941 of 1092: ../augmented_data/train/noise/862.wav\nAnalyzing file 942 of 1092: ../augmented_data/train/noise/863.wav\nAnalyzing file 943 of 1092: ../augmented_data/train/noise/864.wav\nAnalyzing file 944 of 1092: ../augmented_data/train/noise/865.wav\nAnalyzing file 945 of 1092: ../augmented_data/train/noise/866.wav\nAnalyzing file 946 of 1092: ../augmented_data/train/noise/867.wav\nAnalyzing file 947 of 1092: ../augmented_data/train/noise/868.wav\nAnalyzing file 948 of 1092: ../augmented_data/train/noise/869.wav\nAnalyzing file 949 of 1092: ../augmented_data/train/noise/87.wav\nAnalyzing file 950 of 1092: ../augmented_data/train/noise/870.wav\nAnalyzing file 951 of 1092: ../augmented_data/train/noise/871.wav\nAnalyzing file 952 of 1092: ../augmented_data/train/noise/872.wav\nAnalyzing file 953 of 1092: ../augmented_data/train/noise/873.wav\nAnalyzing file 954 of 1092: ../augmented_data/train/noise/874.wav\nAnalyzing file 955 of 1092: ../augmented_data/train/noise/875.wav\nAnalyzing file 956 of 1092: ../augmented_data/train/noise/876.wav\nAnalyzing file 957 of 1092: ../augmented_data/train/noise/877.wav\nAnalyzing file 958 of 1092: ../augmented_data/train/noise/878.wav\nAnalyzing file 959 of 1092: ../augmented_data/train/noise/879.wav\nAnalyzing file 960 of 1092: ../augmented_data/train/noise/88.wav\nAnalyzing file 961 of 1092: ../augmented_data/train/noise/880.wav\nAnalyzing file 962 of 1092: ../augmented_data/train/noise/881.wav\nAnalyzing file 963 of 1092: ../augmented_data/train/noise/882.wav\nAnalyzing file 964 of 1092: ../augmented_data/train/noise/883.wav\nAnalyzing file 965 of 1092: ../augmented_data/train/noise/884.wav\nAnalyzing file 966 of 1092: ../augmented_data/train/noise/885.wav\nAnalyzing file 967 of 1092: ../augmented_data/train/noise/886.wav\nAnalyzing file 968 of 1092: ../augmented_data/train/noise/887.wav\nAnalyzing file 969 of 1092: ../augmented_data/train/noise/888.wav\nAnalyzing file 970 of 1092: ../augmented_data/train/noise/889.wav\nAnalyzing file 971 of 1092: ../augmented_data/train/noise/89.wav\nAnalyzing file 972 of 1092: ../augmented_data/train/noise/890.wav\nAnalyzing file 973 of 1092: ../augmented_data/train/noise/891.wav\nAnalyzing file 974 of 1092: ../augmented_data/train/noise/892.wav\nAnalyzing file 975 of 1092: ../augmented_data/train/noise/893.wav\nAnalyzing file 976 of 1092: ../augmented_data/train/noise/894.wav\nAnalyzing file 977 of 1092: ../augmented_data/train/noise/895.wav\nAnalyzing file 978 of 1092: ../augmented_data/train/noise/896.wav\nAnalyzing file 979 of 1092: ../augmented_data/train/noise/897.wav\nAnalyzing file 980 of 1092: ../augmented_data/train/noise/898.wav\nAnalyzing file 981 of 1092: ../augmented_data/train/noise/899.wav\nAnalyzing file 982 of 1092: ../augmented_data/train/noise/9.wav\nAnalyzing file 983 of 1092: ../augmented_data/train/noise/90.wav\nAnalyzing file 984 of 1092: ../augmented_data/train/noise/900.wav\nAnalyzing file 985 of 1092: ../augmented_data/train/noise/901.wav\nAnalyzing file 986 of 1092: ../augmented_data/train/noise/902.wav\nAnalyzing file 987 of 1092: ../augmented_data/train/noise/903.wav\nAnalyzing file 988 of 1092: ../augmented_data/train/noise/904.wav\nAnalyzing file 989 of 1092: ../augmented_data/train/noise/905.wav\nAnalyzing file 990 of 1092: ../augmented_data/train/noise/906.wav\nAnalyzing file 991 of 1092: ../augmented_data/train/noise/907.wav\nAnalyzing file 992 of 1092: ../augmented_data/train/noise/908.wav\nAnalyzing file 993 of 1092: ../augmented_data/train/noise/909.wav\nAnalyzing file 994 of 1092: ../augmented_data/train/noise/91.wav\nAnalyzing file 995 of 1092: ../augmented_data/train/noise/910.wav\nAnalyzing file 996 of 1092: ../augmented_data/train/noise/911.wav\nAnalyzing file 997 of 1092: ../augmented_data/train/noise/912.wav\nAnalyzing file 998 of 1092: ../augmented_data/train/noise/913.wav\nAnalyzing file 999 of 1092: ../augmented_data/train/noise/914.wav\nAnalyzing file 1000 of 1092: ../augmented_data/train/noise/915.wav\nAnalyzing file 1001 of 1092: ../augmented_data/train/noise/916.wav\nAnalyzing file 1002 of 1092: ../augmented_data/train/noise/917.wav\nAnalyzing file 1003 of 1092: ../augmented_data/train/noise/918.wav\nAnalyzing file 1004 of 1092: ../augmented_data/train/noise/919.wav\nAnalyzing file 1005 of 1092: ../augmented_data/train/noise/92.wav\nAnalyzing file 1006 of 1092: ../augmented_data/train/noise/920.wav\nAnalyzing file 1007 of 1092: ../augmented_data/train/noise/921.wav\nAnalyzing file 1008 of 1092: ../augmented_data/train/noise/922.wav\nAnalyzing file 1009 of 1092: ../augmented_data/train/noise/923.wav\nAnalyzing file 1010 of 1092: ../augmented_data/train/noise/924.wav\nAnalyzing file 1011 of 1092: ../augmented_data/train/noise/925.wav\nAnalyzing file 1012 of 1092: ../augmented_data/train/noise/926.wav\nAnalyzing file 1013 of 1092: ../augmented_data/train/noise/927.wav\nAnalyzing file 1014 of 1092: ../augmented_data/train/noise/928.wav\nAnalyzing file 1015 of 1092: ../augmented_data/train/noise/929.wav\nAnalyzing file 1016 of 1092: ../augmented_data/train/noise/93.wav\nAnalyzing file 1017 of 1092: ../augmented_data/train/noise/930.wav\nAnalyzing file 1018 of 1092: ../augmented_data/train/noise/931.wav\nAnalyzing file 1019 of 1092: ../augmented_data/train/noise/932.wav\nAnalyzing file 1020 of 1092: ../augmented_data/train/noise/933.wav\nAnalyzing file 1021 of 1092: ../augmented_data/train/noise/934.wav\nAnalyzing file 1022 of 1092: ../augmented_data/train/noise/935.wav\nAnalyzing file 1023 of 1092: ../augmented_data/train/noise/936.wav\nAnalyzing file 1024 of 1092: ../augmented_data/train/noise/937.wav\nAnalyzing file 1025 of 1092: ../augmented_data/train/noise/938.wav\nAnalyzing file 1026 of 1092: ../augmented_data/train/noise/939.wav\nAnalyzing file 1027 of 1092: ../augmented_data/train/noise/94.wav\nAnalyzing file 1028 of 1092: ../augmented_data/train/noise/940.wav\nAnalyzing file 1029 of 1092: ../augmented_data/train/noise/941.wav\nAnalyzing file 1030 of 1092: ../augmented_data/train/noise/942.wav\nAnalyzing file 1031 of 1092: ../augmented_data/train/noise/943.wav\nAnalyzing file 1032 of 1092: ../augmented_data/train/noise/944.wav\nAnalyzing file 1033 of 1092: ../augmented_data/train/noise/945.wav\nAnalyzing file 1034 of 1092: ../augmented_data/train/noise/946.wav\nAnalyzing file 1035 of 1092: ../augmented_data/train/noise/947.wav\nAnalyzing file 1036 of 1092: ../augmented_data/train/noise/948.wav\nAnalyzing file 1037 of 1092: ../augmented_data/train/noise/949.wav\nAnalyzing file 1038 of 1092: ../augmented_data/train/noise/95.wav\nAnalyzing file 1039 of 1092: ../augmented_data/train/noise/950.wav\nAnalyzing file 1040 of 1092: ../augmented_data/train/noise/951.wav\nAnalyzing file 1041 of 1092: ../augmented_data/train/noise/952.wav\nAnalyzing file 1042 of 1092: ../augmented_data/train/noise/953.wav\nAnalyzing file 1043 of 1092: ../augmented_data/train/noise/954.wav\nAnalyzing file 1044 of 1092: ../augmented_data/train/noise/955.wav\nAnalyzing file 1045 of 1092: ../augmented_data/train/noise/956.wav\nAnalyzing file 1046 of 1092: ../augmented_data/train/noise/957.wav\nAnalyzing file 1047 of 1092: ../augmented_data/train/noise/958.wav\nAnalyzing file 1048 of 1092: ../augmented_data/train/noise/959.wav\nAnalyzing file 1049 of 1092: ../augmented_data/train/noise/96.wav\nAnalyzing file 1050 of 1092: ../augmented_data/train/noise/960.wav\nAnalyzing file 1051 of 1092: ../augmented_data/train/noise/961.wav\nAnalyzing file 1052 of 1092: ../augmented_data/train/noise/962.wav\nAnalyzing file 1053 of 1092: ../augmented_data/train/noise/963.wav\nAnalyzing file 1054 of 1092: ../augmented_data/train/noise/964.wav\nAnalyzing file 1055 of 1092: ../augmented_data/train/noise/965.wav\nAnalyzing file 1056 of 1092: ../augmented_data/train/noise/966.wav\nAnalyzing file 1057 of 1092: ../augmented_data/train/noise/967.wav\nAnalyzing file 1058 of 1092: ../augmented_data/train/noise/968.wav\nAnalyzing file 1059 of 1092: ../augmented_data/train/noise/969.wav\nAnalyzing file 1060 of 1092: ../augmented_data/train/noise/97.wav\nAnalyzing file 1061 of 1092: ../augmented_data/train/noise/970.wav\nAnalyzing file 1062 of 1092: ../augmented_data/train/noise/971.wav\nAnalyzing file 1063 of 1092: ../augmented_data/train/noise/972.wav\nAnalyzing file 1064 of 1092: ../augmented_data/train/noise/973.wav\nAnalyzing file 1065 of 1092: ../augmented_data/train/noise/974.wav\nAnalyzing file 1066 of 1092: ../augmented_data/train/noise/975.wav\nAnalyzing file 1067 of 1092: ../augmented_data/train/noise/976.wav\nAnalyzing file 1068 of 1092: ../augmented_data/train/noise/977.wav\nAnalyzing file 1069 of 1092: ../augmented_data/train/noise/978.wav\nAnalyzing file 1070 of 1092: ../augmented_data/train/noise/979.wav\nAnalyzing file 1071 of 1092: ../augmented_data/train/noise/98.wav\nAnalyzing file 1072 of 1092: ../augmented_data/train/noise/980.wav\nAnalyzing file 1073 of 1092: ../augmented_data/train/noise/981.wav\nAnalyzing file 1074 of 1092: ../augmented_data/train/noise/982.wav\nAnalyzing file 1075 of 1092: ../augmented_data/train/noise/983.wav\nAnalyzing file 1076 of 1092: ../augmented_data/train/noise/984.wav\nAnalyzing file 1077 of 1092: ../augmented_data/train/noise/985.wav\nAnalyzing file 1078 of 1092: ../augmented_data/train/noise/986.wav\nAnalyzing file 1079 of 1092: ../augmented_data/train/noise/987.wav\nAnalyzing file 1080 of 1092: ../augmented_data/train/noise/988.wav\nAnalyzing file 1081 of 1092: ../augmented_data/train/noise/989.wav\nAnalyzing file 1082 of 1092: ../augmented_data/train/noise/99.wav\nAnalyzing file 1083 of 1092: ../augmented_data/train/noise/990.wav\nAnalyzing file 1084 of 1092: ../augmented_data/train/noise/991.wav\nAnalyzing file 1085 of 1092: ../augmented_data/train/noise/992.wav\nAnalyzing file 1086 of 1092: ../augmented_data/train/noise/993.wav\nAnalyzing file 1087 of 1092: ../augmented_data/train/noise/994.wav\nAnalyzing file 1088 of 1092: ../augmented_data/train/noise/995.wav\nAnalyzing file 1089 of 1092: ../augmented_data/train/noise/996.wav\nAnalyzing file 1090 of 1092: ../augmented_data/train/noise/997.wav\nAnalyzing file 1091 of 1092: ../augmented_data/train/noise/998.wav\nAnalyzing file 1092 of 1092: ../augmented_data/train/noise/999.wav\nFeature extraction complexity ratio: 4.0 x realtime\nNumber of training experiments changed to 5 due to high number of samples\nParam = 0.00100 - classifier Evaluation Experiment 1 of 5\nParam = 0.00100 - classifier Evaluation Experiment 2 of 5\nParam = 0.00100 - classifier Evaluation Experiment 3 of 5\nParam = 0.00100 - classifier Evaluation Experiment 4 of 5\nParam = 0.00100 - classifier Evaluation Experiment 5 of 5\nParam = 0.01000 - classifier Evaluation Experiment 1 of 5\nParam = 0.01000 - classifier Evaluation Experiment 2 of 5\nParam = 0.01000 - classifier Evaluation Experiment 3 of 5\nParam = 0.01000 - classifier Evaluation Experiment 4 of 5\nParam = 0.01000 - classifier Evaluation Experiment 5 of 5\nParam = 0.50000 - classifier Evaluation Experiment 1 of 5\nParam = 0.50000 - classifier Evaluation Experiment 2 of 5\nParam = 0.50000 - classifier Evaluation Experiment 3 of 5\nParam = 0.50000 - classifier Evaluation Experiment 4 of 5\nParam = 0.50000 - classifier Evaluation Experiment 5 of 5\nParam = 1.00000 - classifier Evaluation Experiment 1 of 5\nParam = 1.00000 - classifier Evaluation Experiment 2 of 5\nParam = 1.00000 - classifier Evaluation Experiment 3 of 5\nParam = 1.00000 - classifier Evaluation Experiment 4 of 5\nParam = 1.00000 - classifier Evaluation Experiment 5 of 5\nParam = 5.00000 - classifier Evaluation Experiment 1 of 5\nParam = 5.00000 - classifier Evaluation Experiment 2 of 5\nParam = 5.00000 - classifier Evaluation Experiment 3 of 5\nParam = 5.00000 - classifier Evaluation Experiment 4 of 5\nParam = 5.00000 - classifier Evaluation Experiment 5 of 5\nParam = 10.00000 - classifier Evaluation Experiment 1 of 5\nParam = 10.00000 - classifier Evaluation Experiment 2 of 5\nParam = 10.00000 - classifier Evaluation Experiment 3 of 5\nParam = 10.00000 - classifier Evaluation Experiment 4 of 5\nParam = 10.00000 - classifier Evaluation Experiment 5 of 5\nParam = 20.00000 - classifier Evaluation Experiment 1 of 5\nParam = 20.00000 - classifier Evaluation Experiment 2 of 5\nParam = 20.00000 - classifier Evaluation Experiment 3 of 5\nParam = 20.00000 - classifier Evaluation Experiment 4 of 5\nParam = 20.00000 - classifier Evaluation Experiment 5 of 5\n\t\tbell\t\t\tnoise\t\tOVERALL\n\tC\tPRE\tREC\tf1\tPRE\tREC\tf1\tACC\tf1\n\t0.001\t99.6\t99.8\t99.7\t99.8\t99.6\t99.7\t99.7\t99.7\n\t0.010\t100.0\t99.3\t99.6\t99.3\t100.0\t99.6\t99.6\t99.6\n\t0.500\t99.4\t99.3\t99.4\t99.3\t99.4\t99.4\t99.4\t99.4\n\t1.000\t100.0\t99.6\t99.8\t99.6\t100.0\t99.8\t99.8\t99.8\n\t5.000\t99.8\t99.6\t99.7\t99.6\t99.8\t99.7\t99.7\t99.7\n\t10.000\t100.0\t99.8\t99.9\t99.8\t100.0\t99.9\t99.9\t99.9\t best f1\t best Acc\n\t20.000\t99.6\t99.3\t99.4\t99.3\t99.6\t99.5\t99.4\t99.4\nConfusion Matrix:\n\tbell\tnoi\nbell\t49.91\t0.09\nnoi\t0.00\t50.00\nSelected params: 10.00000\n"
    }
   ],
   "source": [
    "aT.extract_features_and_train([\"../augmented_data/train/bell\",\"../augmented_data/train/noise\"], 1.0, 1.0, aT.shortTermWindow, aT.shortTermStep, \"svm\", \"svm_bell\", False)"
   ]
  },
  {
   "cell_type": "code",
   "execution_count": 11,
   "metadata": {
    "tags": []
   },
   "outputs": [
    {
     "output_type": "stream",
     "name": "stdout",
     "text": "[[268   0]\n [  6 268]]\n[1.0, 0.9781021897810219] [0.9781021897810219, 1.0] [0.988929889298893, 0.988929889298893] 0.988929889298893 0.988929889298893\n"
    }
   ],
   "source": [
    "# aT.folder_classification(\"../augmented_data/test\", \"svmSMtemp\",\"svm\")\n",
    "output = aT.evaluate_model_for_folders([\"../augmented_data/test/noise\", \"../augmented_data/test/bell\"], \"svm_bell\", \"svm\", \"bell\")"
   ]
  },
  {
   "cell_type": "code",
   "execution_count": 12,
   "metadata": {},
   "outputs": [
    {
     "data": {
      "text/plain": [
       "(array([[718,   2],\n",
       "        [  0, 720]]),\n",
       " array([3.00000090e-14, 3.11646999e-14, 3.14235947e-14, ...,\n",
       "        9.99999899e-01, 9.99999899e-01, 9.99999900e-01]),\n",
       " array([0.5       , 0.49367089, 0.49331457, ..., 0.        , 0.        ,\n",
       "        1.        ]),\n",
       " array([1.        , 0.975     , 0.97361111, ..., 0.        , 0.        ,\n",
       "        0.        ]),\n",
       " array([1.99999990e+00, 9.99999900e-01, 7.53812864e-01, 3.37150529e-01,\n",
       "        1.73647636e-01, 6.33163382e-02, 5.89825638e-02, 3.11646999e-14,\n",
       "        3.00000090e-14]),\n",
       " array([0.        , 0.00833333, 0.99722222, 0.99722222, 0.99861111,\n",
       "        0.99861111, 1.        , 1.        , 1.        ]),\n",
       " array([0.        , 0.        , 0.        , 0.00277778, 0.00277778,\n",
       "        0.00694444, 0.00694444, 0.975     , 1.        ]))"
      ]
     },
     "execution_count": 12,
     "metadata": {},
     "output_type": "execute_result"
    }
   ],
   "source": [
    "output"
   ]
  },
  {
   "cell_type": "code",
   "execution_count": 7,
   "metadata": {
    "tags": []
   },
   "outputs": [
    {
     "output_type": "stream",
     "name": "stdout",
     "text": "CPU times: user 35.7 ms, sys: 76.4 ms, total: 112 ms\nWall time: 17.1 ms\n"
    },
    {
     "output_type": "execute_result",
     "data": {
      "text/plain": "(0.0, array([0.96377365, 0.03622635]), ['bell', 'noise'])"
     },
     "metadata": {},
     "execution_count": 7
    }
   ],
   "source": [
    "%%time\n",
    "aT.file_classification(\"../bell_detector/corrected/ambient/2020-09-24_11:42:14.wav\", \"svm_bell\",\"svm\")"
   ]
  },
  {
   "cell_type": "code",
   "execution_count": null,
   "metadata": {},
   "outputs": [],
   "source": []
  },
  {
   "cell_type": "code",
   "execution_count": null,
   "metadata": {},
   "outputs": [],
   "source": []
  }
 ],
 "metadata": {
  "kernelspec": {
   "display_name": "Python 3",
   "language": "python",
   "name": "python3"
  },
  "language_info": {
   "codemirror_mode": {
    "name": "ipython",
    "version": 3
   },
   "file_extension": ".py",
   "mimetype": "text/x-python",
   "name": "python",
   "nbconvert_exporter": "python",
   "pygments_lexer": "ipython3",
   "version": "3.6.10"
  }
 },
 "nbformat": 4,
 "nbformat_minor": 4
}